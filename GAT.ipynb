{
 "cells": [
  {
   "cell_type": "code",
   "execution_count": 1,
   "id": "514bb295-b875-4b8b-b912-ebe8bd23c824",
   "metadata": {},
   "outputs": [
    {
     "name": "stdout",
     "output_type": "stream",
     "text": [
      "                    feature1  feature2\n",
      "date       bond_id                    \n",
      "2023-01-01 0       -0.343461 -0.978529\n",
      "           1        1.228038 -2.134945\n",
      "           2       -0.799468 -2.024358\n",
      "           3       -0.575496  0.220507\n",
      "           4       -0.270393  0.764598\n"
     ]
    }
   ],
   "source": [
    "import pandas as pd\n",
    "import numpy as np\n",
    "\n",
    "# Generate sample data\n",
    "dates = pd.date_range(start='2023-01-01', periods=100, freq='D')\n",
    "num_bonds = 10\n",
    "data = {\n",
    "    'date': np.tile(dates, num_bonds),\n",
    "    'bond_id': np.repeat(np.arange(num_bonds), len(dates)),\n",
    "    'feature1': np.random.randn(len(dates) * num_bonds),\n",
    "    'feature2': np.random.randn(len(dates) * num_bonds),\n",
    "}\n",
    "\n",
    "df = pd.DataFrame(data)\n",
    "df.set_index(['date', 'bond_id'], inplace=True)\n",
    "print(df.sort_index().head())"
   ]
  },
  {
   "cell_type": "code",
   "execution_count": 2,
   "id": "b442e642-e302-4056-b45b-08556d3eed4d",
   "metadata": {},
   "outputs": [],
   "source": [
    "# Pivot the dataframe to get features as columns and bond_id as rows\n",
    "bond_features = df.reset_index().pivot(index='bond_id', columns='date', values=['feature1', 'feature2'])\n",
    "bond_features = bond_features.fillna(0)  # Handle NaNs if any\n",
    "\n",
    "# Create the adjacency matrix (using correlation as an example)\n",
    "correlation_matrix = np.corrcoef(bond_features.values.reshape(bond_features.shape[0], -1))\n",
    "adjacency_matrix = (correlation_matrix > 0.05).astype(int)\n",
    "\n",
    "# Node features\n",
    "node_features = bond_features.values.reshape(bond_features.shape[0], -1)"
   ]
  },
  {
   "cell_type": "code",
   "execution_count": 3,
   "id": "09fabbc4-c21a-46d8-978e-51f9205f8dc7",
   "metadata": {},
   "outputs": [],
   "source": [
    "import jax\n",
    "import jax.numpy as jnp\n",
    "from flax import linen as nn\n",
    "import optax"
   ]
  },
  {
   "cell_type": "code",
   "execution_count": 5,
   "id": "8977c80c-0bf7-4f8d-94b5-288f255e200a",
   "metadata": {
    "scrolled": true
   },
   "outputs": [],
   "source": [
    "class GATLayer(nn.Module):\n",
    "    in_features: int\n",
    "    out_features: int\n",
    "    num_heads: int = 1\n",
    "\n",
    "    def setup(self):\n",
    "        self.attn_weights = self.param('attn_weights', jax.nn.initializers.glorot_uniform(), \n",
    "                                       (self.num_heads, self.in_features, self.out_features))\n",
    "        self.attn_biases = self.param('attn_biases', jax.nn.initializers.zeros, (self.num_heads, self.out_features))\n",
    "\n",
    "    def __call__(self, x, edge_index):\n",
    "        attn_weights = self.attn_weights\n",
    "        attn_biases = self.attn_biases\n",
    "        \n",
    "        def apply_attention(head, node_features):\n",
    "            x_w = jnp.dot(node_features, attn_weights[head]) + attn_biases[head]\n",
    "            alpha = jax.nn.softmax(jnp.dot(x_w, x_w.T), axis=-1)\n",
    "            return jnp.dot(alpha, x_w)\n",
    "        \n",
    "        multihead_outputs = [apply_attention(head, x) for head in range(self.num_heads)]\n",
    "        return jnp.concatenate(multihead_outputs, axis=-1)\n",
    "\n",
    "class GATModel(nn.Module):\n",
    "    in_features: int\n",
    "    out_features: int\n",
    "    hidden_dim: int\n",
    "    num_heads: int\n",
    "\n",
    "    def setup(self):\n",
    "        self.gat1 = GATLayer(self.in_features, self.hidden_dim, self.num_heads)\n",
    "        self.gat2 = GATLayer(self.hidden_dim * self.num_heads, self.out_features, 1)\n",
    "\n",
    "    def __call__(self, x, edge_index):\n",
    "        x = self.gat1(x, edge_index)\n",
    "        x = nn.elu(x)\n",
    "        x = self.gat2(x, edge_index)\n",
    "        return x\n",
    "\n",
    "# Initialize model\n",
    "model = GATModel(in_features=node_features.shape[1], out_features=1, hidden_dim=8, num_heads=8)\n",
    "params = model.init(jax.random.PRNGKey(0), node_features, adjacency_matrix)"
   ]
  },
  {
   "cell_type": "code",
   "execution_count": 6,
   "id": "1875cbc6-0c06-4f12-a20e-835fb2b2b6e1",
   "metadata": {},
   "outputs": [],
   "source": [
    "from flax.training import train_state\n",
    "\n",
    "class TrainState(train_state.TrainState):\n",
    "    pass #batch_stats: dict\n",
    "\n",
    "# Define loss function\n",
    "def loss_fn(params, batch):\n",
    "    inputs, targets = batch\n",
    "    predictions = model.apply(params, inputs, adjacency_matrix)\n",
    "    loss = jnp.mean((predictions - targets) ** 2)\n",
    "    return loss"
   ]
  },
  {
   "cell_type": "code",
   "execution_count": 7,
   "id": "73496877-5482-420d-aaaa-3c4f3a180c05",
   "metadata": {},
   "outputs": [],
   "source": [
    "# Initialize optimizer\n",
    "learning_rate = 0.005\n",
    "optimizer = optax.adam(learning_rate)\n",
    "state = TrainState.create(apply_fn=model.apply, params=params, tx=optimizer)\n",
    "\n",
    "# Training loop\n",
    "@jax.jit\n",
    "def train_step(state, batch):\n",
    "    loss, grads = jax.value_and_grad(loss_fn)(state.params, batch)\n",
    "    state = state.apply_gradients(grads=grads)\n",
    "    return state, loss"
   ]
  },
  {
   "cell_type": "code",
   "execution_count": 8,
   "id": "3b8d14e6-56ca-41f2-8d62-ee6dc919003d",
   "metadata": {},
   "outputs": [
    {
     "name": "stdout",
     "output_type": "stream",
     "text": [
      "Epoch 0, Loss: 0.05672908574342728\n",
      "Epoch 10, Loss: 0.4664713144302368\n",
      "Epoch 20, Loss: 0.054832398891448975\n",
      "Epoch 30, Loss: 0.008281473070383072\n",
      "Epoch 40, Loss: 0.002554930280894041\n",
      "Epoch 50, Loss: 0.00029670834192074835\n",
      "Epoch 60, Loss: 0.00018542220641393214\n",
      "Epoch 70, Loss: 0.00014577849651686847\n",
      "Epoch 80, Loss: 7.385780190816149e-05\n",
      "Epoch 90, Loss: 3.337900488986634e-05\n",
      "Epoch 100, Loss: 1.6240834156633355e-05\n",
      "Epoch 110, Loss: 9.31080194277456e-06\n",
      "Epoch 120, Loss: 6.5535159592400305e-06\n",
      "Epoch 130, Loss: 5.49555579709704e-06\n",
      "Epoch 140, Loss: 4.946053195453715e-06\n",
      "Epoch 150, Loss: 4.429461569088744e-06\n",
      "Epoch 160, Loss: 3.949753136112122e-06\n",
      "Epoch 170, Loss: 3.5682755878951866e-06\n",
      "Epoch 180, Loss: 3.2438422294944758e-06\n",
      "Epoch 190, Loss: 2.956787511720904e-06\n"
     ]
    }
   ],
   "source": [
    "# Example training batch (dummy data)\n",
    "targets = jnp.array([0.5] * node_features.shape[0])\n",
    "batch = (node_features, targets)\n",
    "\n",
    "# Train for a few epochs\n",
    "num_epochs = 200\n",
    "for epoch in range(num_epochs):\n",
    "    state, loss = train_step(state, batch)\n",
    "    if epoch % 10 == 0:\n",
    "        print(f'Epoch {epoch}, Loss: {loss}')"
   ]
  },
  {
   "cell_type": "code",
   "execution_count": 9,
   "id": "cae552fe-4ba5-4718-8531-a096aca1bbf7",
   "metadata": {},
   "outputs": [
    {
     "name": "stdout",
     "output_type": "stream",
     "text": [
      "[[0.4997275 ]\n",
      " [0.50127506]\n",
      " [0.49976474]\n",
      " [0.49533224]\n",
      " [0.50070435]\n",
      " [0.50047666]\n",
      " [0.5011364 ]\n",
      " [0.5003159 ]\n",
      " [0.50117505]\n",
      " [0.5001677 ]]\n"
     ]
    }
   ],
   "source": [
    "predictions = model.apply(state.params, node_features, adjacency_matrix)\n",
    "print(predictions)"
   ]
  }
 ],
 "metadata": {
  "kernelspec": {
   "display_name": "Python 3 (ipykernel)",
   "language": "python",
   "name": "python3"
  },
  "language_info": {
   "codemirror_mode": {
    "name": "ipython",
    "version": 3
   },
   "file_extension": ".py",
   "mimetype": "text/x-python",
   "name": "python",
   "nbconvert_exporter": "python",
   "pygments_lexer": "ipython3",
   "version": "3.9.18"
  }
 },
 "nbformat": 4,
 "nbformat_minor": 5
}
